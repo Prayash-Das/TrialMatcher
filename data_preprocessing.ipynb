{
 "cells": [
  {
   "cell_type": "code",
   "execution_count": null,
   "id": "25d8fd39-3803-4e3d-90ef-b626af215fa1",
   "metadata": {},
   "outputs": [],
   "source": [
    "import pandas as pd\n",
    "data=pd.read_csv('/content/ctg-studies.csv')\n",
    "data.head()"
   ]
  },
  {
   "cell_type": "code",
   "execution_count": null,
   "id": "0f5d87db-afae-4176-9848-cfed1338625e",
   "metadata": {},
   "outputs": [],
   "source": [
    "data=data.drop(['Study URL'],axis=1)\n",
    "data.head()"
   ]
  },
  {
   "cell_type": "code",
   "execution_count": null,
   "id": "9c6a8121-e453-4632-b8eb-bf0c2d820aca",
   "metadata": {},
   "outputs": [],
   "source": [
    "# Filter the DataFrame to remove rows where 'Study Status' is 'NOT_YET_RECRUITING'\n",
    "data = data[data['Study Status'] != 'NOT_YET_RECRUITING']\n",
    "\n",
    "# Save the modified DataFrame back to a new CSV file\n",
    "data_filtered.to_csv('ctg-studies_filtered.csv', index=False)\n",
    "\n",
    "data_filtered.head()"
   ]
  },
  {
   "cell_type": "code",
   "execution_count": null,
   "id": "9c6f444d-edab-40f3-aca3-33a48cd96ccb",
   "metadata": {},
   "outputs": [],
   "source": [
    "data2=pd.read_csv('/content/patients.csv')\n",
    "data2.head()"
   ]
  },
  {
   "cell_type": "code",
   "execution_count": null,
   "id": "4408a851-bb7c-40ad-a55e-5b779e605435",
   "metadata": {},
   "outputs": [],
   "source": [
    "data2=data2.drop(['SUFFIX'],axis=1) #Drop the 'SUFFIX' column\n",
    "data2.head()"
   ]
  },
  {
   "cell_type": "code",
   "execution_count": null,
   "id": "72263230-1f1b-45e7-97da-cdf7a32a9fe7",
   "metadata": {},
   "outputs": [],
   "source": [
    "data2=data2.rename(columns={'Id':'PATIENT'}) #Change the name of the column 'Id' to 'PATIENT'\n",
    "data_filtered=data2.to_csv('patients_filtered.csv', index=False)"
   ]
  },
  {
   "cell_type": "code",
   "execution_count": null,
   "id": "e0669ddf-0d38-4ec8-8b37-d71bef557c15",
   "metadata": {},
   "outputs": [],
   "source": [
    "data3=pd.read_csv('/content/conditions.csv')\n",
    "data3.head()"
   ]
  },
  {
   "cell_type": "code",
   "execution_count": null,
   "id": "0ea38439-5408-4716-b423-9b4697761f51",
   "metadata": {},
   "outputs": [],
   "source": [
    "data3=data3.drop(['START','STOP','ENCOUNTER','SYSTEM','CODE'],axis=1) #Drop the ['START','STOP','ENCOUNTER','SYSTEM','CODE'] columns\n",
    "data3.head()"
   ]
  },
  {
   "cell_type": "code",
   "execution_count": null,
   "id": "c7009ef2-ce6a-4553-8a89-358b81a9e24e",
   "metadata": {},
   "outputs": [],
   "source": [
    "data_filtered2=data3.to_csv('conditions_filtered.csv', index=False)"
   ]
  },
  {
   "cell_type": "code",
   "execution_count": null,
   "id": "6ffbc2b1-e6bf-45c8-a77a-c4e49135c4af",
   "metadata": {},
   "outputs": [],
   "source": [
    "df3=pd.read_csv('/content/medications.csv')\n",
    "df3.head()"
   ]
  },
  {
   "cell_type": "code",
   "execution_count": null,
   "id": "ba391998-1207-4000-b26f-6ed925a8dff0",
   "metadata": {},
   "outputs": [],
   "source": [
    "df3=df3.drop(['START','STOP','PAYER','ENCOUNTER','CODE','BASE_COST','PAYER_COVERAGE','DISPENSES','TOTALCOST','REASONCODE','REASONDESCRIPTION'],axis=1)\n",
    "df3.head() # Dropping the ['START','STOP','PAYER','ENCOUNTER','CODE','BASE_COST','PAYER_COVERAGE','DISPENSES','TOTALCOST','REASONCODE','REASONDESCRIPTION'] columns"
   ]
  },
  {
   "cell_type": "code",
   "execution_count": null,
   "id": "f916f510-0bf0-4153-84c9-580ab3f03377",
   "metadata": {},
   "outputs": [],
   "source": [
    "data_filtered3=df3.to_csv('medications_filtered.csv', index=False)"
   ]
  },
  {
   "cell_type": "code",
   "execution_count": null,
   "id": "3c3008ac-7f23-4b67-b370-a5a6216c1c28",
   "metadata": {},
   "outputs": [],
   "source": [
    "import pandas as pd\n",
    "# Load the CSV files\n",
    "df1 = pd.read_csv('/content/patients_filtered.csv')\n",
    "df2 = pd.read_csv('/content/conditions_filtered.csv')\n",
    "data_filtered3 = pd.read_csv('/content/medications_filtered.csv')\n",
    "\n",
    "# First, merge df1 and df2 on the 'PATIENT' column\n",
    "merged_df_1 = pd.merge(df1, df2, on='PATIENT', how='inner')\n",
    "\n",
    "# Then, merge the result with data_filtered3\n",
    "merged_df = pd.merge(merged_df_1, data_filtered3, on='PATIENT', how='inner')\n",
    "\n",
    "# Save the final merged DataFrame to a new CSV file\n",
    "merged_df.to_csv('merged_file_patients.csv', index=False)"
   ]
  },
  {
   "cell_type": "code",
   "execution_count": null,
   "id": "23191dfd-db4f-4bba-82c3-6ec391b5b757",
   "metadata": {},
   "outputs": [],
   "source": [
    "df4=pd.read_csv('/content/merged_file_patients.csv')\n",
    "df4=df4.drop(['FIRST','LAST','MIDDLE'],axis=1)\n",
    "data2.head()\n",
    "df4.head()\n",
    "\n",
    "df4.to_csv('merged_file_patients.csv', index=False)"
   ]
  },
  {
   "cell_type": "code",
   "execution_count": null,
   "id": "5bb26904-283c-4bc3-bb87-f1556d3f4630",
   "metadata": {},
   "outputs": [],
   "source": [
    "import pandas as pd\n",
    "from datetime import datetime\n",
    "\n",
    "# Load CSV file\n",
    "df4 = pd.read_csv('/content/merged_file_patients.csv')\n",
    "\n",
    "# Convert 'BIRTHDATE' column to datetime format\n",
    "df4['BIRTHDATE'] = pd.to_datetime(df4['BIRTHDATE'])\n",
    "\n",
    "# Define the current date or reference date \n",
    "current_date = datetime.now()\n",
    "\n",
    "# Calculate the age by subtracting birthdate from the current date and converting it to years\n",
    "df4['AGE'] = (current_date - df4['BIRTHDATE']).dt.days//365  # '<m8[Y]' converts the difference to years\n",
    "\n",
    "# Save the updated DataFrame to a new CSV file\n",
    "df4.to_csv('file_with_age.csv', index=False)"
   ]
  },
  {
   "cell_type": "code",
   "execution_count": null,
   "id": "6b296329-d4e5-4f53-9cab-0657a6f864e4",
   "metadata": {},
   "outputs": [],
   "source": [
    "df5=pd.read_csv('/content/file_with_age.csv')\n",
    "df5.head()"
   ]
  },
  {
   "cell_type": "code",
   "execution_count": null,
   "id": "62058298-de59-4514-819f-4ca1a2f138dd",
   "metadata": {},
   "outputs": [],
   "source": []
  }
 ],
 "metadata": {
  "kernelspec": {
   "display_name": "Python 3 (ipykernel)",
   "language": "python",
   "name": "python3"
  },
  "language_info": {
   "codemirror_mode": {
    "name": "ipython",
    "version": 3
   },
   "file_extension": ".py",
   "mimetype": "text/x-python",
   "name": "python",
   "nbconvert_exporter": "python",
   "pygments_lexer": "ipython3",
   "version": "3.11.7"
  }
 },
 "nbformat": 4,
 "nbformat_minor": 5
}
